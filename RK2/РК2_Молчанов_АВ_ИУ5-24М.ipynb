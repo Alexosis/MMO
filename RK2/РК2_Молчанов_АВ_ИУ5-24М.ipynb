{
 "cells": [
  {
   "cell_type": "markdown",
   "id": "78bc26f5",
   "metadata": {},
   "source": [
    "### Выполнил: Молчанов АВ\n",
    "### Задание: Необходимо решить задачу классификации текстов, сформировав два варианта векторизации признаков - на основе CountVectorizer и на основе TfidfVectorizer. В качестве классификаторов необходимо использовать два классификатора: KNeighborsClassifier, Complement Naive Bayes"
   ]
  },
  {
   "cell_type": "code",
   "execution_count": 1,
   "id": "5ee74545",
   "metadata": {},
   "outputs": [],
   "source": [
    "import os\n",
    "import gzip\n",
    "import shutil\n",
    "\n",
    "import numpy as np\n",
    "import pandas as pd\n",
    "from sklearn.feature_extraction.text import CountVectorizer, TfidfVectorizer\n",
    "from sklearn.model_selection import train_test_split\n",
    "from sklearn.metrics import classification_report\n",
    "from sklearn.neighbors import KNeighborsClassifier\n",
    "from sklearn.naive_bayes import ComplementNB\n",
    "\n",
    "import warnings\n",
    "warnings.filterwarnings('ignore')"
   ]
  },
  {
   "cell_type": "code",
   "execution_count": 2,
   "id": "8daea967",
   "metadata": {},
   "outputs": [
    {
     "data": {
      "text/html": [
       "<div>\n",
       "<style scoped>\n",
       "    .dataframe tbody tr th:only-of-type {\n",
       "        vertical-align: middle;\n",
       "    }\n",
       "\n",
       "    .dataframe tbody tr th {\n",
       "        vertical-align: top;\n",
       "    }\n",
       "\n",
       "    .dataframe thead th {\n",
       "        text-align: right;\n",
       "    }\n",
       "</style>\n",
       "<table border=\"1\" class=\"dataframe\">\n",
       "  <thead>\n",
       "    <tr style=\"text-align: right;\">\n",
       "      <th></th>\n",
       "      <th>email</th>\n",
       "      <th>label</th>\n",
       "    </tr>\n",
       "  </thead>\n",
       "  <tbody>\n",
       "    <tr>\n",
       "      <th>0</th>\n",
       "      <td>date wed NUMBER aug NUMBER NUMBER NUMBER NUMB...</td>\n",
       "      <td>0</td>\n",
       "    </tr>\n",
       "    <tr>\n",
       "      <th>1</th>\n",
       "      <td>martin a posted tassos papadopoulos the greek ...</td>\n",
       "      <td>0</td>\n",
       "    </tr>\n",
       "    <tr>\n",
       "      <th>2</th>\n",
       "      <td>man threatens explosion in moscow thursday aug...</td>\n",
       "      <td>0</td>\n",
       "    </tr>\n",
       "    <tr>\n",
       "      <th>3</th>\n",
       "      <td>klez the virus that won t die already the most...</td>\n",
       "      <td>0</td>\n",
       "    </tr>\n",
       "    <tr>\n",
       "      <th>4</th>\n",
       "      <td>in adding cream to spaghetti carbonara which ...</td>\n",
       "      <td>0</td>\n",
       "    </tr>\n",
       "  </tbody>\n",
       "</table>\n",
       "</div>"
      ],
      "text/plain": [
       "                                               email  label\n",
       "0   date wed NUMBER aug NUMBER NUMBER NUMBER NUMB...      0\n",
       "1  martin a posted tassos papadopoulos the greek ...      0\n",
       "2  man threatens explosion in moscow thursday aug...      0\n",
       "3  klez the virus that won t die already the most...      0\n",
       "4   in adding cream to spaghetti carbonara which ...      0"
      ]
     },
     "execution_count": 2,
     "metadata": {},
     "output_type": "execute_result"
    }
   ],
   "source": [
    "data = pd.read_csv('spam_or_not_spam.csv')\n",
    "data.head()"
   ]
  },
  {
   "cell_type": "markdown",
   "id": "bec2da5b",
   "metadata": {},
   "source": [
    "Feature preparation"
   ]
  },
  {
   "cell_type": "code",
   "execution_count": 3,
   "id": "fc5ed14e",
   "metadata": {},
   "outputs": [
    {
     "data": {
      "text/plain": [
       "<3000x34117 sparse matrix of type '<class 'numpy.float64'>'\n",
       "\twith 348377 stored elements in Compressed Sparse Row format>"
      ]
     },
     "execution_count": 3,
     "metadata": {},
     "output_type": "execute_result"
    }
   ],
   "source": [
    "tfidfv = TfidfVectorizer()\n",
    "tfidf_ngram_features = tfidfv.fit_transform(data['email'].values.astype('U'))\n",
    "tfidf_ngram_features"
   ]
  },
  {
   "cell_type": "code",
   "execution_count": 4,
   "id": "bf100809",
   "metadata": {},
   "outputs": [
    {
     "data": {
      "text/plain": [
       "<3000x34117 sparse matrix of type '<class 'numpy.int64'>'\n",
       "\twith 348377 stored elements in Compressed Sparse Row format>"
      ]
     },
     "execution_count": 4,
     "metadata": {},
     "output_type": "execute_result"
    }
   ],
   "source": [
    "countvec = CountVectorizer()\n",
    "countvec_ngram_features = countvec.fit_transform(data['email'].values.astype('U'))\n",
    "countvec_ngram_features"
   ]
  },
  {
   "cell_type": "markdown",
   "id": "24567c70",
   "metadata": {},
   "source": [
    "KNeighboursClassifier"
   ]
  },
  {
   "cell_type": "code",
   "execution_count": 5,
   "id": "dc92a639",
   "metadata": {},
   "outputs": [
    {
     "name": "stdout",
     "output_type": "stream",
     "text": [
      "              precision    recall  f1-score   support\n",
      "\n",
      "           0     0.9872    0.9264    0.9558       747\n",
      "           1     0.7236    0.9412    0.8182       153\n",
      "\n",
      "    accuracy                         0.9289       900\n",
      "   macro avg     0.8554    0.9338    0.8870       900\n",
      "weighted avg     0.9424    0.9289    0.9324       900\n",
      "\n"
     ]
    }
   ],
   "source": [
    "# TFIDF + KNC\n",
    "X_train, X_test, y_train, y_test = train_test_split(tfidf_ngram_features, data['label'], test_size=0.3, random_state=1)\n",
    "model = KNeighborsClassifier()\n",
    "model.fit(X_train, y_train)\n",
    "y_pred = model.predict(X_test)\n",
    "print(classification_report(y_test, y_pred, digits=4, target_names=list(map(str, list(y_test.unique())))))"
   ]
  },
  {
   "cell_type": "code",
   "execution_count": 6,
   "id": "6cee21ea",
   "metadata": {},
   "outputs": [
    {
     "name": "stdout",
     "output_type": "stream",
     "text": [
      "              precision    recall  f1-score   support\n",
      "\n",
      "           0     0.9645    0.9451    0.9547       747\n",
      "           1     0.7560    0.8301    0.7913       153\n",
      "\n",
      "    accuracy                         0.9256       900\n",
      "   macro avg     0.8602    0.8876    0.8730       900\n",
      "weighted avg     0.9290    0.9256    0.9269       900\n",
      "\n"
     ]
    }
   ],
   "source": [
    "# CountVec + KNC\n",
    "X_train, X_test, y_train, y_test = train_test_split(countvec_ngram_features, data['label'], \n",
    "                                                    test_size=0.3, random_state=1)\n",
    "model = KNeighborsClassifier()\n",
    "model.fit(X_train, y_train)\n",
    "y_pred = model.predict(X_test)\n",
    "print(classification_report(y_test, y_pred, digits=4, target_names=list(map(str, list(y_test.unique())))))"
   ]
  },
  {
   "cell_type": "markdown",
   "id": "2d7545e5",
   "metadata": {},
   "source": [
    "Complement Naive Bayes"
   ]
  },
  {
   "cell_type": "code",
   "execution_count": 7,
   "id": "20c9984e",
   "metadata": {},
   "outputs": [
    {
     "name": "stdout",
     "output_type": "stream",
     "text": [
      "              precision    recall  f1-score   support\n",
      "\n",
      "           0     0.8830    1.0000    0.9379       747\n",
      "           1     1.0000    0.3529    0.5217       153\n",
      "\n",
      "    accuracy                         0.8900       900\n",
      "   macro avg     0.9415    0.6765    0.7298       900\n",
      "weighted avg     0.9029    0.8900    0.8671       900\n",
      "\n"
     ]
    }
   ],
   "source": [
    "# TFIDF + CNB\n",
    "X_train, X_test, y_train, y_test = train_test_split(tfidf_ngram_features, data['label'], test_size=0.3, random_state=1)\n",
    "model = ComplementNB()\n",
    "model.fit(X_train, y_train)\n",
    "y_pred = model.predict(X_test)\n",
    "print(classification_report(y_test, y_pred, digits=4, target_names=list(map(str, list(y_test.unique())))))"
   ]
  },
  {
   "cell_type": "code",
   "execution_count": 8,
   "id": "293d6ab9",
   "metadata": {},
   "outputs": [
    {
     "name": "stdout",
     "output_type": "stream",
     "text": [
      "              precision    recall  f1-score   support\n",
      "\n",
      "           0     0.9907    0.9973    0.9940       747\n",
      "           1     0.9865    0.9542    0.9701       153\n",
      "\n",
      "    accuracy                         0.9900       900\n",
      "   macro avg     0.9886    0.9758    0.9820       900\n",
      "weighted avg     0.9900    0.9900    0.9899       900\n",
      "\n"
     ]
    }
   ],
   "source": [
    "# CountVec + CNB\n",
    "X_train, X_test, y_train, y_test = train_test_split(countvec_ngram_features, data['label'], \n",
    "                                                    test_size=0.3, random_state=1)\n",
    "model = ComplementNB()\n",
    "model.fit(X_train, y_train)\n",
    "y_pred = model.predict(X_test)\n",
    "print(classification_report(y_test, y_pred, digits=4, target_names=list(map(str, list(y_test.unique())))))"
   ]
  },
  {
   "cell_type": "markdown",
   "id": "1b5e80ad",
   "metadata": {},
   "source": [
    "### Complement Naive Bayes показал лучший результат"
   ]
  }
 ],
 "metadata": {
  "kernelspec": {
   "display_name": "Python 3 (ipykernel)",
   "language": "python",
   "name": "python3"
  },
  "language_info": {
   "codemirror_mode": {
    "name": "ipython",
    "version": 3
   },
   "file_extension": ".py",
   "mimetype": "text/x-python",
   "name": "python",
   "nbconvert_exporter": "python",
   "pygments_lexer": "ipython3",
   "version": "3.8.10"
  }
 },
 "nbformat": 4,
 "nbformat_minor": 5
}
